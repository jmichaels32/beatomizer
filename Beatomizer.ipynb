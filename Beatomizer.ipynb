{
 "cells": [
  {
   "cell_type": "markdown",
   "id": "0a92dee6-e734-449a-856e-301e79309dff",
   "metadata": {},
   "source": [
    "# Beatomizer"
   ]
  },
  {
   "cell_type": "markdown",
   "id": "81545ae8-d109-4444-a3e9-f7ecd9760a86",
   "metadata": {},
   "source": [
    "### 0.1 Importing Files"
   ]
  },
  {
   "cell_type": "code",
   "execution_count": 2,
   "id": "3f224ed9-ed09-4fbb-993a-06554fa331f0",
   "metadata": {},
   "outputs": [],
   "source": [
    "import numpy as np\n",
    "import tensorflow as tf\n",
    "from tensorflow.keras.layers import Input, Bidirectional, LSTM, Dense, RepeatVector, Concatenate, Activation, Dot, Conv1D, MaxPooling1D, GRU, BatchNormalization, Flatten, Dropout, TimeDistributed\n",
    "from tensorflow.keras.optimizers import Adam\n",
    "from tensorflow.keras.models import Model\n",
    "import math\n",
    "import cv2"
   ]
  },
  {
   "cell_type": "markdown",
   "id": "b53217e6-0c82-4aa0-ba9b-dfaaf122c8cb",
   "metadata": {},
   "source": [
    "### 0.2 Some Hyperparameters"
   ]
  },
  {
   "cell_type": "code",
   "execution_count": 3,
   "id": "3f447313-7abf-4439-b931-f091cc588db2",
   "metadata": {},
   "outputs": [
    {
     "name": "stderr",
     "output_type": "stream",
     "text": [
      "2022-12-09 19:07:37.292329: I tensorflow/core/platform/cpu_feature_guard.cc:193] This TensorFlow binary is optimized with oneAPI Deep Neural Network Library (oneDNN) to use the following CPU instructions in performance-critical operations:  SSE4.1 SSE4.2\n",
      "To enable them in other operations, rebuild TensorFlow with the appropriate compiler flags.\n"
     ]
    }
   ],
   "source": [
    "SAVE_PATH = \"./YoutubeVideos\"\n",
    "AUDIO_PATH = \"./AudioFiles\"\n",
    "VISUALIZER_PATH = \"./Visualizers\"\n",
    "outputFrameRate = 60.0\n",
    "maximumMinuteDuration = 0.25\n",
    "minimumSecondDuration = 3\n",
    "\n",
    "learning_rate = 0.005\n",
    "learning_rate1D = 0.01\n",
    "\n",
    "n_a = 32\n",
    "n_s = 64\n",
    "post_activation_LSTM_cell = LSTM(n_s, return_state = True)\n",
    "output_layer = Dense(3)"
   ]
  },
  {
   "cell_type": "markdown",
   "id": "6eae7363-836c-4a6a-a466-3f8133d14d16",
   "metadata": {},
   "source": [
    "## 1 Dataset"
   ]
  },
  {
   "cell_type": "markdown",
   "id": "61b88d0d-8a35-4554-8801-2aeb8ceaf155",
   "metadata": {},
   "source": [
    "### 1.1 Loading in the Youtube Videos"
   ]
  },
  {
   "cell_type": "code",
   "execution_count": 4,
   "id": "b2d4a542-b6df-40a5-8b20-bffcd62f7b83",
   "metadata": {},
   "outputs": [],
   "source": [
    "from pytube import YouTube\n",
    "from moviepy.editor import VideoFileClip\n",
    "\n",
    "links = [\"https://www.youtube.com/watch?v=RDlMvJb0QGA\", \n",
    "         \"https://www.youtube.com/watch?v=90oZ52M4IC0\",\n",
    "         \"https://www.youtube.com/watch?v=uwk-XskXCI4\",\n",
    "         \"https://www.youtube.com/watch?v=TQOCdulydlY\",\n",
    "         \"https://www.youtube.com/watch?v=Go2NOmWpuoE\",\n",
    "         \"https://www.youtube.com/watch?v=Hsk5romLo-U\",\n",
    "         \"https://www.youtube.com/watch?v=Yd5_VFar5YM\",\n",
    "         \"https://www.youtube.com/watch?v=OQVeDDf4T-4\",\n",
    "         \"https://www.youtube.com/watch?v=UAwDpvZEn1g\",\n",
    "         \"https://www.youtube.com/watch?v=9EDRVwlW9zQ\",\n",
    "         \"https://www.youtube.com/watch?v=HAFVJAKpzFk\",\n",
    "         \"https://www.youtube.com/watch?v=JOPIKFJ4W6Y\",\n",
    "         \"https://www.youtube.com/watch?v=NZz2ksOmbuQ\",\n",
    "         \"https://www.youtube.com/watch?v=Cm4PJ023iXI\",\n",
    "         \"https://www.youtube.com/watch?v=NSmj4yV0zZM\",\n",
    "         \"https://www.youtube.com/watch?v=hk-pBKXbAds\",\n",
    "         \"https://www.youtube.com/watch?v=hbn3aU7Uscg\",\n",
    "         \"https://www.youtube.com/watch?v=C5-LvuSPuew\"]\n",
    "filenames = []\n",
    "\n",
    "nameIndex = 0\n",
    "for link in links:\n",
    "    try:\n",
    "        yt = YouTube(link)\n",
    "    except:\n",
    "        print(\"Connection Error\")\n",
    "        \n",
    "    mp4files = yt.streams.filter(file_extension=\"mp4\")\n",
    "    mp4360pfiles = mp4files.get_by_resolution(\"360p\")\n",
    "    \n",
    "    try:\n",
    "        filename = str(nameIndex) + \".mp4\"\n",
    "        mp4360pfiles.download(SAVE_PATH, filename=filename)\n",
    "\n",
    "        desiredFile = SAVE_PATH + \"/\" + filename\n",
    "        audioFile = str(nameIndex) + \".mp3\"\n",
    "        newFile = AUDIO_PATH + \"/\" + audioFile\n",
    "\n",
    "        clip = VideoFileClip(desiredFile)\n",
    "        clip.audio.write_audiofile(newFile, verbose=False, logger=None)\n",
    "\n",
    "        filenames.append([filename, audioFile])\n",
    "        nameIndex += 1\n",
    "    except:\n",
    "        print(\"Some Error\")"
   ]
  },
  {
   "cell_type": "markdown",
   "id": "da329fa4-d4ba-4a7a-8336-28b08977696b",
   "metadata": {},
   "source": [
    "### 1.2 Generating data from the videos"
   ]
  },
  {
   "cell_type": "code",
   "execution_count": 5,
   "id": "4f3fb323-d0be-4348-9cc9-c04cbea29f43",
   "metadata": {},
   "outputs": [],
   "source": [
    "visualizerFrameSize = (500, 500)\n",
    "\n",
    "# Helper function to convert a list of rgb values (with frame rate given above) into a visualization\n",
    "def visualize(rgbValues, index):\n",
    "    out = cv2.VideoWriter(VISUALIZER_PATH + \"/output_\" + index + \".mp4\", cv2.VideoWriter_fourcc(*'mp4v'), outputFrameRate, visualizerFrameSize)\n",
    "    \n",
    "    for val in rgbValues:\n",
    "        val = val.astype(np.uint8)\n",
    "        img = np.dstack((np.full(visualizerFrameSize, val[0]), np.full(visualizerFrameSize, val[1]), np.full(visualizerFrameSize, val[2])))\n",
    "        out.write(img)\n",
    "        \n",
    "    out.release()"
   ]
  },
  {
   "cell_type": "code",
   "execution_count": 6,
   "id": "ccf731bd-175a-46df-90ec-974d8087c05b",
   "metadata": {},
   "outputs": [],
   "source": [
    "# Helper function to upscale the youtube videos to the desired frame rate (and divide up the audio accordingly)\n",
    "def createScaling(index, desiredFrames, inputtedFrames, depth=5):\n",
    "    if (depth == 0):\n",
    "        return 0\n",
    "\n",
    "    total = 0\n",
    "    totalFramesLeft = desiredFrames\n",
    "    while (totalFramesLeft > inputtedFrames):\n",
    "        total += 1\n",
    "        totalFramesLeft -= inputtedFrames\n",
    "    \n",
    "    if (totalFramesLeft - inputtedFrames == 0):\n",
    "        total += 1\n",
    "        return total\n",
    "    elif (totalFramesLeft == 0):\n",
    "        return total\n",
    "    else:\n",
    "        if (totalFramesLeft/inputtedFrames) > 0.5:\n",
    "            total += 1\n",
    "            floor = math.floor(inputtedFrames/(inputtedFrames - totalFramesLeft))\n",
    "            if (index % floor == 0):\n",
    "                total -= 1\n",
    "            remainingFramesToNegate = math.floor(((inputtedFrames - ((inputtedFrames - totalFramesLeft) * floor))/floor) + 1)\n",
    "            #remainingFramesToNegate = (((inputtedFrames/(inputtedFrames - totalFramesLeft)) - floor) * (inputtedFrames - totalFramesLeft) * floor)/floor\n",
    "            return total + createScaling(index, remainingFramesToNegate, inputtedFrames, depth=depth-1)\n",
    "        else:\n",
    "            floor = math.floor(inputtedFrames/totalFramesLeft)\n",
    "            if (index % floor == 0):\n",
    "                total += 1\n",
    "            remainingFramesToNegate = math.floor(((inputtedFrames - (totalFramesLeft * floor))/floor))\n",
    "            return total - createScaling(index, remainingFramesToNegate, inputtedFrames, depth=depth-1)"
   ]
  },
  {
   "cell_type": "code",
   "execution_count": 7,
   "id": "48f066d5-d0d2-4d29-80fe-ef4fe40e6bcd",
   "metadata": {},
   "outputs": [],
   "source": [
    "# Finds the maximum length vectors so that we can pad all vectors to the same length\n",
    "def findMaximumforPadding(x, y):\n",
    "    largestExample = 0\n",
    "    largestVectorSize = 0\n",
    "    for example in x:\n",
    "        if len(example) > largestExample:\n",
    "            largestExample = len(example)\n",
    "        for vector in example:\n",
    "            if len(vector) > largestVectorSize:\n",
    "                largestVectorSize = len(vector)\n",
    "    return largestExample, largestVectorSize"
   ]
  },
  {
   "cell_type": "code",
   "execution_count": 8,
   "id": "7b17b455-968c-4043-8dc3-2169542b7f60",
   "metadata": {},
   "outputs": [],
   "source": [
    "import librosa\n",
    "\n",
    "# whichToVisualize is an array of indexes representing which videos to generate visualizers for\n",
    "# maximumLength is in minutes, representing the maximum length of a particular sample\n",
    "def generateData(filenames, whichToVisualize=None, maximumLength=maximumMinuteDuration, testData=False, largestE=None, largestV=None):\n",
    "    x = []\n",
    "    y = []\n",
    "    currentVisualizerIndex = 0\n",
    "    for filename, audiofilename in filenames:\n",
    "        video = cv2.VideoCapture(SAVE_PATH + \"/\" + filename)\n",
    "        \n",
    "        # Parse important info from the video\n",
    "        frame_count = video.get(cv2.CAP_PROP_FRAME_COUNT)\n",
    "        fps = video.get(cv2.CAP_PROP_FPS)\n",
    "        videoLength = frame_count/fps\n",
    "        scaling = outputFrameRate/fps\n",
    "        print(\"# of Original Frames:\", frame_count)\n",
    "        print(\"# of Desired Frames:\", int(frame_count * scaling))\n",
    "        print(\"Original Frame Rate:\", fps)\n",
    "        print(\"Desired Frame Rate:\", outputFrameRate)\n",
    "        \n",
    "        # Calculate the maximum frames allowed for a particular sample\n",
    "        maxFrames = int(maximumLength * 60 * fps)\n",
    "        print(\"Max Frames: \", maxFrames)\n",
    "        print(\"Desired Frames: \", maxFrames * scaling)\n",
    "        \n",
    "        # Load in the audio\n",
    "        data, sr = librosa.load(AUDIO_PATH + \"/\" + audiofilename)\n",
    "        audioPosition = 0\n",
    "        print(\"# Audio Samples:\", len(data))\n",
    "        print(\"\")\n",
    "        \n",
    "        frameIndex = 0\n",
    "        \n",
    "        xOutput = []\n",
    "        yOutput = []\n",
    "        \n",
    "        while (video.isOpened()):\n",
    "            ret, frame = video.read()\n",
    "            if ret == False:\n",
    "                break\n",
    "            \n",
    "            framesToCreate = createScaling(frameIndex, int(frame_count * scaling), frame_count)\n",
    "            audioValuesToCombine = createScaling(frameIndex, len(data), int(frame_count * scaling)) \n",
    "            audioForFrame = np.asarray(data[audioPosition:audioValuesToCombine+audioPosition])\n",
    "            audioPosition += audioValuesToCombine\n",
    "            \n",
    "            for _ in range(framesToCreate):\n",
    "                val = np.mean(frame, axis=0)\n",
    "                val = np.mean(val, axis=0)\n",
    "                yOutput.append(val)\n",
    "                xOutput.append(audioForFrame)\n",
    "                \n",
    "            frameIndex += 1\n",
    "            if (frameIndex % maxFrames == 0 or frameIndex == frame_count):\n",
    "                y.append(yOutput)\n",
    "                x.append(xOutput)\n",
    "                \n",
    "                if (whichToVisualize != None):\n",
    "                    if (currentVisualizerIndex < len(whichToVisualize)):\n",
    "                        if (str(whichToVisualize[currentVisualizerIndex]) + \".mp4\" == filename):\n",
    "                            visualize(yOutput, str(whichToVisualize[currentVisualizerIndex]))\n",
    "                            currentVisualizerIndex += 1\n",
    "                        \n",
    "                yOutput = []\n",
    "                xOutput = []\n",
    "            \n",
    "        video.release()\n",
    "    cv2.destroyAllWindows()\n",
    "        \n",
    "    # Weed out small examples\n",
    "    for i in range(len(y)-1, -1, -1):\n",
    "        if len(y[i]) < minimumSecondDuration * outputFrameRate:\n",
    "            del y[i]\n",
    "            del x[i]\n",
    "            \n",
    "    # Find the largest size vector (except in the case where we already know the largest size vector, i.e. testing)\n",
    "    largestExample = 0\n",
    "    largestVectorSize = 0\n",
    "    if not testData:\n",
    "        largestExample, largestVectorSize = findMaximumforPadding(x, y)\n",
    "    else:\n",
    "        largestExample = largestE\n",
    "        largestVectorSize = largestV\n",
    "    \n",
    "    # Add the actual padding here\n",
    "    for exampleIndex in range(len(x)):\n",
    "        # Iterate over all vectors in the example\n",
    "        iterationIndex = 0\n",
    "        while iterationIndex <= largestExample:\n",
    "            if iterationIndex > len(x[exampleIndex]):\n",
    "                x[exampleIndex].append(np.zeros((largestVectorSize,)))\n",
    "                y[exampleIndex].append(np.zeros((3,)))\n",
    "            else:\n",
    "                for vectorIndex in range(len(x[exampleIndex])):\n",
    "                    while len(x[exampleIndex][vectorIndex]) < largestVectorSize:\n",
    "                        x[exampleIndex][vectorIndex] = np.append(x[exampleIndex][vectorIndex], [0])\n",
    "            iterationIndex += 1\n",
    "    \n",
    "    print(largestExample)\n",
    "    print(largestVectorSize)\n",
    "            \n",
    "    x = np.asarray(x)\n",
    "    y = np.asarray(y)\n",
    "    #y = list(y.swapaxes(0,1))\n",
    "    \n",
    "    return x, y, largestExample, largestVectorSize"
   ]
  },
  {
   "cell_type": "code",
   "execution_count": 9,
   "id": "17b89ce0-a150-4909-b804-cc5de0a1b665",
   "metadata": {},
   "outputs": [
    {
     "name": "stdout",
     "output_type": "stream",
     "text": [
      "# of Original Frames: 3056.0\n",
      "# of Desired Frames: 7640\n",
      "Original Frame Rate: 24.0\n",
      "Desired Frame Rate: 60.0\n",
      "Max Frames:  360\n",
      "Desired Frames:  900.0\n",
      "# Audio Samples: 2807847\n",
      "\n",
      "# of Original Frames: 19926.0\n",
      "# of Desired Frames: 39891\n",
      "Original Frame Rate: 29.97002997002997\n",
      "Desired Frame Rate: 60.0\n",
      "Max Frames:  449\n",
      "Desired Frames:  898.8980000000001\n",
      "# Audio Samples: 14660604\n",
      "\n",
      "# of Original Frames: 19778.0\n",
      "# of Desired Frames: 39556\n",
      "Original Frame Rate: 30.0\n",
      "Desired Frame Rate: 60.0\n",
      "Max Frames:  450\n",
      "Desired Frames:  900.0\n",
      "# Audio Samples: 14537785\n",
      "\n",
      "# of Original Frames: 10932.0\n",
      "# of Desired Frames: 21885\n",
      "Original Frame Rate: 29.97\n",
      "Desired Frame Rate: 60.0\n",
      "Max Frames:  449\n",
      "Desired Frames:  898.898898898899\n",
      "# Audio Samples: 8043620\n",
      "\n",
      "# of Original Frames: 6153.0\n",
      "# of Desired Frames: 14767\n",
      "Original Frame Rate: 25.0\n",
      "Desired Frame Rate: 60.0\n",
      "Max Frames:  375\n",
      "Desired Frames:  900.0\n",
      "# Audio Samples: 5427167\n",
      "\n",
      "# of Original Frames: 12735.0\n",
      "# of Desired Frames: 25495\n",
      "Original Frame Rate: 29.97002997002997\n",
      "Desired Frame Rate: 60.0\n",
      "Max Frames:  449\n",
      "Desired Frames:  898.8980000000001\n",
      "# Audio Samples: 9369707\n",
      "\n",
      "# of Original Frames: 83678.0\n",
      "# of Desired Frames: 209404\n",
      "Original Frame Rate: 23.976023976023978\n",
      "Desired Frame Rate: 60.0\n",
      "Max Frames:  359\n",
      "Desired Frames:  898.3975\n",
      "# Audio Samples: 76956705\n",
      "\n",
      "# of Original Frames: 9116.0\n",
      "# of Desired Frames: 21878\n",
      "Original Frame Rate: 25.0\n",
      "Desired Frame Rate: 60.0\n",
      "Max Frames:  375\n",
      "Desired Frames:  900.0\n",
      "# Audio Samples: 8040532\n",
      "\n",
      "# of Original Frames: 8391.0\n",
      "# of Desired Frames: 20138\n",
      "Original Frame Rate: 25.0\n",
      "Desired Frame Rate: 60.0\n",
      "Max Frames:  375\n",
      "Desired Frames:  900.0\n",
      "# Audio Samples: 7400862\n",
      "\n",
      "# of Original Frames: 9569.0\n",
      "# of Desired Frames: 22965\n",
      "Original Frame Rate: 25.0\n",
      "Desired Frame Rate: 60.0\n",
      "Max Frames:  375\n",
      "Desired Frames:  900.0\n",
      "# Audio Samples: 8440299\n",
      "\n",
      "# of Original Frames: 12022.0\n",
      "# of Desired Frames: 28852\n",
      "Original Frame Rate: 25.0\n",
      "Desired Frame Rate: 60.0\n",
      "Max Frames:  375\n",
      "Desired Frames:  900.0\n",
      "# Audio Samples: 10603625\n",
      "\n",
      "# of Original Frames: 12331.0\n",
      "# of Desired Frames: 24686\n",
      "Original Frame Rate: 29.97002997002997\n",
      "Desired Frame Rate: 60.0\n",
      "Max Frames:  449\n",
      "Desired Frames:  898.8980000000001\n",
      "# Audio Samples: 9072693\n",
      "\n",
      "# of Original Frames: 12072.0\n",
      "# of Desired Frames: 30210\n",
      "Original Frame Rate: 23.976023976023978\n",
      "Desired Frame Rate: 60.0\n",
      "Max Frames:  359\n",
      "Desired Frames:  898.3975\n",
      "# Audio Samples: 11103278\n",
      "\n",
      "# of Original Frames: 8145.0\n",
      "# of Desired Frames: 19548\n",
      "Original Frame Rate: 25.0\n",
      "Desired Frame Rate: 60.0\n",
      "Max Frames:  375\n",
      "Desired Frames:  900.0\n",
      "# Audio Samples: 7184331\n",
      "\n",
      "# of Original Frames: 4534.0\n",
      "# of Desired Frames: 10881\n",
      "Original Frame Rate: 25.0\n",
      "Desired Frame Rate: 60.0\n",
      "Max Frames:  375\n",
      "Desired Frames:  900.0\n",
      "# Audio Samples: 3999209\n",
      "\n",
      "# of Original Frames: 7847.0\n",
      "# of Desired Frames: 18832\n",
      "Original Frame Rate: 25.0\n",
      "Desired Frame Rate: 60.0\n",
      "Max Frames:  375\n",
      "Desired Frames:  900.0\n",
      "# Audio Samples: 6921275\n",
      "\n",
      "# of Original Frames: 9316.0\n",
      "# of Desired Frames: 22358\n",
      "Original Frame Rate: 25.0\n",
      "Desired Frame Rate: 60.0\n",
      "Max Frames:  375\n",
      "Desired Frames:  900.0\n",
      "# Audio Samples: 8217594\n",
      "\n",
      "# of Original Frames: 7060.0\n",
      "# of Desired Frames: 16944\n",
      "Original Frame Rate: 25.0\n",
      "Desired Frame Rate: 60.0\n",
      "Max Frames:  375\n",
      "Desired Frames:  900.0\n",
      "# Audio Samples: 6226920\n",
      "\n",
      "902\n",
      "369\n"
     ]
    }
   ],
   "source": [
    "x, y, largestTx, largestVectorSize = generateData(filenames, [0, 1])"
   ]
  },
  {
   "cell_type": "markdown",
   "id": "4bbd7b42-3a19-45a0-97fc-b40b41ed55e4",
   "metadata": {},
   "source": [
    "## 2 Model"
   ]
  },
  {
   "cell_type": "markdown",
   "id": "7120b69f-542d-4d3a-a63e-9089bd6174b1",
   "metadata": {},
   "source": [
    "### 2.1 Baseline (Convolutional neural network)"
   ]
  },
  {
   "cell_type": "code",
   "execution_count": 58,
   "id": "86f72f5f-b441-47d0-a4f9-c86c97366f99",
   "metadata": {},
   "outputs": [],
   "source": [
    "def oneDConvNet(Tx, Ty, audioValuesPerFrame):\n",
    "    # The model takes as input vectors of size (Tx, audioValuesPerFrame) which can be thought of as a picture\n",
    "    X_inputs = Input(shape=(Tx, audioValuesPerFrame))\n",
    "    \n",
    "    # Convolutional 1D layer\n",
    "    X = Conv1D(filters=130, kernel_size=13, strides=2)(X_inputs)\n",
    "    X = Activation(\"relu\")(X)\n",
    "    X = MaxPooling1D(pool_size=2)(X)\n",
    "    \n",
    "    # Second Convolutional 1D Layer\n",
    "    X = Conv1D(filters=150, kernel_size=10, strides=3)(X)\n",
    "    X = Activation(\"relu\")(X)\n",
    "    X = MaxPooling1D(pool_size=2)(X)\n",
    "    \n",
    "    # Third Convolutional 1D Layer\n",
    "    X = Conv1D(filters=170, kernel_size=7, strides=4)(X)\n",
    "    X = Activation(\"relu\")(X)\n",
    "    X = MaxPooling1D(pool_size=3)(X)\n",
    "    \n",
    "    # Fourth Convolutional 1D Layer\n",
    "    X = Conv1D(filters=200, kernel_size=4, padding='same')(X)\n",
    "    X = Activation(\"relu\")(X)\n",
    "    X = MaxPooling1D(pool_size=2)(X)\n",
    "    X = Flatten()(X)\n",
    "    \n",
    "    # Dense layers\n",
    "    X = Dense(2048)(X)\n",
    "    X = Dense(1024)(X)\n",
    "    X = Dense(512)(X)\n",
    "    X = Dense(Ty)(X)\n",
    "    \n",
    "    model = Model(inputs=X_inputs, outputs=X)\n",
    "    \n",
    "    return model"
   ]
  },
  {
   "cell_type": "code",
   "execution_count": 59,
   "id": "eb29303b-19b5-4082-890c-d8905f0e2638",
   "metadata": {},
   "outputs": [],
   "source": [
    "oneDModel = oneDConvNet(largestTx, largestTx * 3, largestVectorSize)"
   ]
  },
  {
   "cell_type": "code",
   "execution_count": 66,
   "id": "6b96c782-0b3c-423d-9f9c-26106f69c368",
   "metadata": {},
   "outputs": [],
   "source": [
    "opt = Adam(lr=learning_rate1D, beta_1=0.9, beta_2=0.999, decay=0.01)\n",
    "oneDModel.compile(loss=tf.keras.losses.MeanSquaredError(), optimizer=opt, metrics=[tf.keras.metrics.CosineSimilarity(axis=1)])"
   ]
  },
  {
   "cell_type": "code",
   "execution_count": 67,
   "id": "6f250ba4-300b-4803-b85e-5c10ce786d4b",
   "metadata": {},
   "outputs": [],
   "source": [
    "# Reshape y for this problem (so dense layer can have the valid output)\n",
    "yReshaped = np.asarray(y)\n",
    "yReshaped = yReshaped.reshape(yReshaped.shape[0], yReshaped.shape[1] * yReshaped.shape[2])"
   ]
  },
  {
   "cell_type": "code",
   "execution_count": 68,
   "id": "30b59506-9a57-4ee6-b14e-d9cf843d1209",
   "metadata": {},
   "outputs": [
    {
     "name": "stdout",
     "output_type": "stream",
     "text": [
      "Epoch 1/20\n",
      "201/201 [==============================] - 11s 51ms/step - loss: 2930.0959 - cosine_similarity: 0.7157 - val_loss: 1541.0325 - val_cosine_similarity: 0.7550\n",
      "Epoch 2/20\n",
      "201/201 [==============================] - 9s 45ms/step - loss: 2577.1853 - cosine_similarity: 0.7594 - val_loss: 1186.4834 - val_cosine_similarity: 0.7666\n",
      "Epoch 3/20\n",
      "201/201 [==============================] - 9s 45ms/step - loss: 2542.2449 - cosine_similarity: 0.7607 - val_loss: 1214.1298 - val_cosine_similarity: 0.7607\n",
      "Epoch 4/20\n",
      "201/201 [==============================] - 9s 45ms/step - loss: 2521.4409 - cosine_similarity: 0.7612 - val_loss: 1175.9274 - val_cosine_similarity: 0.7659\n",
      "Epoch 5/20\n",
      "201/201 [==============================] - 9s 46ms/step - loss: 2515.0952 - cosine_similarity: 0.7613 - val_loss: 1263.7609 - val_cosine_similarity: 0.7617\n",
      "Epoch 6/20\n",
      "201/201 [==============================] - 10s 47ms/step - loss: 2490.7161 - cosine_similarity: 0.7614 - val_loss: 1358.4802 - val_cosine_similarity: 0.7642\n",
      "Epoch 7/20\n",
      "201/201 [==============================] - 9s 45ms/step - loss: 2510.4219 - cosine_similarity: 0.7616 - val_loss: 1333.8286 - val_cosine_similarity: 0.7649\n",
      "Epoch 8/20\n",
      "201/201 [==============================] - 9s 45ms/step - loss: 2502.1660 - cosine_similarity: 0.7619 - val_loss: 1263.2466 - val_cosine_similarity: 0.7651\n",
      "Epoch 9/20\n",
      "201/201 [==============================] - 9s 45ms/step - loss: 2493.6331 - cosine_similarity: 0.7619 - val_loss: 1186.6991 - val_cosine_similarity: 0.7649\n",
      "Epoch 10/20\n",
      "201/201 [==============================] - 9s 46ms/step - loss: 2500.9836 - cosine_similarity: 0.7620 - val_loss: 1242.2516 - val_cosine_similarity: 0.7650\n",
      "Epoch 11/20\n",
      "201/201 [==============================] - 10s 48ms/step - loss: 2496.8452 - cosine_similarity: 0.7619 - val_loss: 1260.8003 - val_cosine_similarity: 0.7643\n",
      "Epoch 12/20\n",
      "201/201 [==============================] - 10s 48ms/step - loss: 2481.3611 - cosine_similarity: 0.7622 - val_loss: 1276.7316 - val_cosine_similarity: 0.7646\n",
      "Epoch 13/20\n",
      "201/201 [==============================] - 10s 48ms/step - loss: 2485.1682 - cosine_similarity: 0.7622 - val_loss: 1294.3040 - val_cosine_similarity: 0.7638\n",
      "Epoch 14/20\n",
      "201/201 [==============================] - 9s 47ms/step - loss: 2484.8684 - cosine_similarity: 0.7621 - val_loss: 1254.7146 - val_cosine_similarity: 0.7656\n",
      "Epoch 15/20\n",
      "201/201 [==============================] - 9s 47ms/step - loss: 2489.8921 - cosine_similarity: 0.7623 - val_loss: 1177.6205 - val_cosine_similarity: 0.7646\n",
      "Epoch 16/20\n",
      "201/201 [==============================] - 9s 47ms/step - loss: 2486.1978 - cosine_similarity: 0.7622 - val_loss: 1250.5482 - val_cosine_similarity: 0.7641\n",
      "Epoch 17/20\n",
      "201/201 [==============================] - 10s 47ms/step - loss: 2485.4866 - cosine_similarity: 0.7622 - val_loss: 1393.7340 - val_cosine_similarity: 0.7639\n",
      "Epoch 18/20\n",
      "201/201 [==============================] - 10s 48ms/step - loss: 2481.9250 - cosine_similarity: 0.7623 - val_loss: 1343.5986 - val_cosine_similarity: 0.7645\n",
      "Epoch 19/20\n",
      "201/201 [==============================] - 9s 46ms/step - loss: 2482.9929 - cosine_similarity: 0.7624 - val_loss: 1232.4270 - val_cosine_similarity: 0.7636\n",
      "Epoch 20/20\n",
      "201/201 [==============================] - 9s 46ms/step - loss: 2483.8423 - cosine_similarity: 0.7624 - val_loss: 1271.2312 - val_cosine_similarity: 0.7635\n"
     ]
    }
   ],
   "source": [
    "historyOneD = oneDModel.fit(x, yReshaped, epochs=20, batch_size=3, validation_split=0.1)"
   ]
  },
  {
   "cell_type": "markdown",
   "id": "d954494f-ef0b-44a5-b36b-e3612b45151e",
   "metadata": {},
   "source": [
    "### 2.2 Attention Model"
   ]
  },
  {
   "cell_type": "markdown",
   "id": "51a63ed0-6585-499f-8dd9-344566c098a9",
   "metadata": {},
   "source": [
    "#### 2.2.1 Define loss and layers to be used"
   ]
  },
  {
   "cell_type": "code",
   "execution_count": 15,
   "id": "95624ad3-d5a7-4e09-aa51-cbdff0487d65",
   "metadata": {},
   "outputs": [],
   "source": [
    "import keras.backend as K\n",
    "\n",
    "def custom_loss(y_true, y_pred):\n",
    "    return K.sqrt(K.sum(K.square(y_pred - y_true), axis=-1))"
   ]
  },
  {
   "cell_type": "code",
   "execution_count": 16,
   "id": "dba98453-6d52-441a-b238-e2613151d623",
   "metadata": {},
   "outputs": [],
   "source": [
    "repeator = RepeatVector(largestTx)\n",
    "concatenator = Concatenate(axis=-1)\n",
    "densor1 = Dense(10, activation = \"tanh\")\n",
    "densor2 = Dense(1, activation = \"relu\")\n",
    "activator = Activation(\"softmax\", name='attention_weights') # We are using a custom softmax(axis = 1) loaded in this notebook\n",
    "dotor = Dot(axes=1)"
   ]
  },
  {
   "cell_type": "code",
   "execution_count": 17,
   "id": "c00faf3e-3880-4df9-aa36-dc61f5fceff6",
   "metadata": {},
   "outputs": [],
   "source": [
    "def one_step_attention(a, s_prev):\n",
    "    s_prev = repeator(s_prev)\n",
    "    concat = concatenator([a, s_prev])\n",
    "    e = densor1(concat)\n",
    "    energies = densor2(e)\n",
    "    alphas = activator(energies)\n",
    "    context = dotor([alphas, a])\n",
    "    return context"
   ]
  },
  {
   "cell_type": "code",
   "execution_count": 18,
   "id": "78fa4eac-710f-49fd-8ceb-b1854771b98e",
   "metadata": {},
   "outputs": [],
   "source": [
    "def audioToVideoTranslator(Tx, Ty, n_a, n_s, audioValuesPerFrame):\n",
    "    X = Input(shape=(Tx, audioValuesPerFrame))\n",
    "    s0 = Input(shape=(n_s,), name='s0')\n",
    "    c0 = Input(shape=(n_s,), name='c0')\n",
    "    s = c0\n",
    "    c = c0\n",
    "    \n",
    "    outputs = []\n",
    "    \n",
    "    a = Bidirectional(LSTM(units=n_a, return_sequences=True))(X)\n",
    "    \n",
    "    for t in range(Ty):\n",
    "        \n",
    "        context = one_step_attention(a, s)\n",
    "        \n",
    "        s, _, c = post_activation_LSTM_cell(inputs=context, initial_state=[s, c])\n",
    "        \n",
    "        out = output_layer(inputs=s)\n",
    "        \n",
    "        outputs.append(out)\n",
    "        \n",
    "    model = Model(inputs=[X, s0, c0], outputs=outputs)\n",
    "    \n",
    "    return model"
   ]
  },
  {
   "cell_type": "markdown",
   "id": "3905b280-4668-41d7-bd2e-e1c3bdd14b82",
   "metadata": {},
   "source": [
    "#### 2.2.2 Generate the model"
   ]
  },
  {
   "cell_type": "code",
   "execution_count": 95,
   "id": "98a61730-db02-43f9-aad3-f31fbeef3666",
   "metadata": {
    "tags": []
   },
   "outputs": [],
   "source": [
    "testModel = audioToVideoTranslator(largestTx, largestTx, n_a, n_s, largestVectorSize)"
   ]
  },
  {
   "cell_type": "code",
   "execution_count": 96,
   "id": "91623514-2ff9-4c10-9218-4302fcee0263",
   "metadata": {},
   "outputs": [],
   "source": [
    "opt = Adam(lr=learning_rate, beta_1=0.9, beta_2=0.999, decay=0.01)\n",
    "testModel.compile(loss=custom_loss, optimizer=opt, metrics=[tf.keras.metrics.LogCoshError()])"
   ]
  },
  {
   "cell_type": "code",
   "execution_count": 97,
   "id": "accf521d-992c-46e4-b5a1-a54ff64a1c46",
   "metadata": {},
   "outputs": [],
   "source": [
    "s0 = np.zeros((len(x), n_s))\n",
    "c0 = np.zeros((len(x), n_s))"
   ]
  },
  {
   "cell_type": "code",
   "execution_count": null,
   "id": "a9a4dd51-0d00-4644-b71f-e30cfbebfffb",
   "metadata": {
    "tags": []
   },
   "outputs": [
    {
     "name": "stdout",
     "output_type": "stream",
     "text": [
      "Epoch 1/2\n"
     ]
    }
   ],
   "source": [
    "testModel.fit([x, s0, c0], list(y.swapaxes(0,1)), epochs=2, batch_size=3, validation_split=0.1)"
   ]
  },
  {
   "cell_type": "markdown",
   "id": "e490066c-7341-41d2-bcce-583aab539bf1",
   "metadata": {},
   "source": [
    "## 3 Testing Model / Visualizing Output"
   ]
  },
  {
   "cell_type": "markdown",
   "id": "1b126918-db30-4c57-9300-e8be6f53449b",
   "metadata": {},
   "source": [
    "### 3.1 Define helper functions to visualize the output"
   ]
  },
  {
   "cell_type": "code",
   "execution_count": 19,
   "id": "2460caa4-3e46-4526-88ca-6e7ccfb37e98",
   "metadata": {},
   "outputs": [],
   "source": [
    "import matplotlib.pyplot as plt\n",
    "\n",
    "def graphIntensity(rgbValues):\n",
    "    xCoordinates = np.arange(len(rgbValues))\n",
    "    yCoordinates = []\n",
    "    for rgbValue in rgbValues:\n",
    "        yCoordinates.append(np.dot(rgbValue, rgbValue))\n",
    "    \n",
    "    plt.plot(xCoordinates, yCoordinates)\n",
    "    plt.xlabel('Time')\n",
    "    plt.ylabel('Intensity')\n",
    "    \n",
    "    plt.show()"
   ]
  },
  {
   "cell_type": "markdown",
   "id": "c20bc90a-c895-47f2-a8d4-9f4ffee1158f",
   "metadata": {},
   "source": [
    "### 3.2 Generate the examples we are going to use"
   ]
  },
  {
   "cell_type": "code",
   "execution_count": 20,
   "id": "6d5c2371-69c5-4df6-b571-4d1d98f01f94",
   "metadata": {},
   "outputs": [],
   "source": [
    "exampleLinks = [\"https://www.youtube.com/watch?v=aNggrPAi5dg\"]\n",
    "exampleFileNames = []\n",
    "\n",
    "nameIndex = 0\n",
    "for link in exampleLinks:\n",
    "    try:\n",
    "        yt = YouTube(link)\n",
    "    except:\n",
    "        print(\"Connection Error\")\n",
    "        \n",
    "    mp4files = yt.streams.filter(file_extension=\"mp4\")\n",
    "    mp4360pfiles = mp4files.get_by_resolution(\"360p\")\n",
    "    \n",
    "    try:\n",
    "        filename = \"example\" + str(nameIndex) + \".mp4\"\n",
    "        mp4360pfiles.download(SAVE_PATH, filename=filename)\n",
    "\n",
    "        desiredFile = SAVE_PATH + \"/\" + filename\n",
    "        audioFile = \"example\" + str(nameIndex) + \".mp3\"\n",
    "        newFile = AUDIO_PATH + \"/\" + audioFile\n",
    "\n",
    "        clip = VideoFileClip(desiredFile)\n",
    "        clip.audio.write_audiofile(newFile, verbose=False, logger=None)\n",
    "        \n",
    "        exampleFileNames.append([filename, audioFile])\n",
    "        nameIndex += 1\n",
    "    except:\n",
    "        print(\"Some Error\")"
   ]
  },
  {
   "cell_type": "code",
   "execution_count": 21,
   "id": "912c70fc-1070-4757-afb9-111b8abbc3a9",
   "metadata": {
    "tags": []
   },
   "outputs": [
    {
     "name": "stdout",
     "output_type": "stream",
     "text": [
      "# of Original Frames: 4923.0\n",
      "# of Desired Frames: 11815\n",
      "Original Frame Rate: 25.0\n",
      "Desired Frame Rate: 60.0\n",
      "Max Frames:  375\n",
      "Desired Frames:  900.0\n",
      "# Audio Samples: 4342748\n",
      "\n",
      "902\n",
      "369\n"
     ]
    }
   ],
   "source": [
    "xTest, _, maxVal, maxVal2 = generateData(exampleFileNames, testData=True, largestE=largestTx, largestV=largestVectorSize)"
   ]
  },
  {
   "cell_type": "markdown",
   "id": "6e5ac845-1f9f-4406-9fbd-54b644afd6d5",
   "metadata": {},
   "source": [
    "### 3.3 Test the models / Run the examples on the model"
   ]
  },
  {
   "cell_type": "code",
   "execution_count": 91,
   "id": "f5ec832a-b873-4305-9109-e033a7a6142d",
   "metadata": {},
   "outputs": [
    {
     "name": "stdout",
     "output_type": "stream",
     "text": [
      "1/1 [==============================] - 0s 39ms/step\n"
     ]
    }
   ],
   "source": [
    "predict1D = oneDModel.predict(np.expand_dims(xTest[0], axis=0))\n",
    "\n",
    "reshapedPrediction1D = predict1D.reshape(902, 3)"
   ]
  },
  {
   "cell_type": "code",
   "execution_count": 92,
   "id": "ba7aeb54-b5ee-46ce-b0d3-ac1ceed359e0",
   "metadata": {},
   "outputs": [],
   "source": [
    "visualize(reshapedPrediction1D, \"1DVisualization\")"
   ]
  },
  {
   "cell_type": "code",
   "execution_count": 93,
   "id": "7c858c53-eda3-448d-98e9-29c9b8821a23",
   "metadata": {},
   "outputs": [
    {
     "data": {
      "image/png": "[encoded data removed]",
      "text/plain": [
       "<Figure size 640x480 with 1 Axes>"
      ]
     },
     "metadata": {},
     "output_type": "display_data"
    }
   ],
   "source": [
    "graphIntensity(reshapedPrediction1D)"
   ]
  },
  {
   "cell_type": "code",
   "execution_count": 94,
   "id": "81dd7c18-e69a-47d6-bce6-008e40de1879",
   "metadata": {},
   "outputs": [
    {
     "data": {
      "image/png": "[encoded data removed]",
      "text/plain": [
       "<Figure size 640x480 with 1 Axes>"
      ]
     },
     "metadata": {},
     "output_type": "display_data"
    }
   ],
   "source": [
    "plt.plot(historyOneD.history['loss'])\n",
    "plt.plot(historyOneD.history['val_loss'])\n",
    "plt.show()"
   ]
  },
  {
   "cell_type": "code",
   "execution_count": null,
   "id": "5582478d-7dfa-4b15-b56f-627e65ab5833",
   "metadata": {},
   "outputs": [],
   "source": [
    "s00 = np.zeros((1, n_s))\n",
    "c00 = np.zeros((1, n_s))\n",
    "prediction = testModel.predict([np.expand_dims(xTest[3], axis=0), s00, c00])"
   ]
  },
  {
   "cell_type": "code",
   "execution_count": null,
   "id": "5f129ce8-58fa-425c-9c7e-01b29fbea1b6",
   "metadata": {},
   "outputs": [],
   "source": [
    "visualize(np.squeeze(prediction), \"AttentionVisualization\")"
   ]
  },
  {
   "cell_type": "code",
   "execution_count": null,
   "id": "3d914242-7ea3-4672-9880-c2bb77ed287b",
   "metadata": {},
   "outputs": [],
   "source": [
    "graphIntensity(np.squeeze(prediction))"
   ]
  }
 ],
 "metadata": {
  "kernelspec": {
   "display_name": "Beatomizer Environment",
   "language": "python",
   "name": "cs230"
  },
  "language_info": {
   "codemirror_mode": {
    "name": "ipython",
    "version": 3
   },
   "file_extension": ".py",
   "mimetype": "text/x-python",
   "name": "python",
   "nbconvert_exporter": "python",
   "pygments_lexer": "ipython3",
   "version": "3.9.15"
  }
 },
 "nbformat": 4,
 "nbformat_minor": 5
}
